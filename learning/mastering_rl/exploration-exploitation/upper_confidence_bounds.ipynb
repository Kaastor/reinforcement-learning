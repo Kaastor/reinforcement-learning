{
 "cells": [
  {
   "cell_type": "markdown",
   "source": [
    "### Action selection using upper confidence bounds\n",
    "\n",
    "Upper confidence bounds (UCB) is a simple yet effective solution to the\n",
    "exploration-exploitation trade-off. The idea is that at each time step, we select the\n",
    "action that has the highest potential for reward.\n",
    "The potential of the action is calculated as the sum of the action value estimate and a measure of the uncertainty of this estimate. This sum is what we call the UCB. So, an action is selected either because our estimate for the action value is high, or the action has not been explored enough (that is, as many times as the other ones) and there is high uncertainty about its value, or both."
   ],
   "metadata": {
    "collapsed": false,
    "pycharm": {
     "name": "#%% md\n"
    }
   }
  },
  {
   "cell_type": "markdown",
   "source": [
    "We select the action to take at time using the following formula:\n",
    "![](img/ucb.png)"
   ],
   "metadata": {
    "collapsed": false,
    "pycharm": {
     "name": "#%% md\n"
    }
   }
  },
  {
   "cell_type": "markdown",
   "source": [
    "* Formula looks at the values of Q and N (which may have been updated a while ago at the decision-making, t). No update here.\n",
    "* Square root is to measure uncertainty for the estimate of the action value of the action.\n",
    "* **The more we select the action, the less uncertainty we have about its value**, and so is the N(a) term in the denominator.\n",
    "* As time passes the uncertainty grows due to the ln t term (makes sense if env is not stationary). So more exploration is encouraged.\n",
    "* Hyperparameter c controls the emphasis on uncertainty."
   ],
   "metadata": {
    "collapsed": false,
    "pycharm": {
     "name": "#%% md\n"
    }
   }
  },
  {
   "cell_type": "markdown",
   "source": [
    "### Application to the online advertising scenario"
   ],
   "metadata": {
    "collapsed": false,
    "pycharm": {
     "name": "#%% md\n"
    }
   }
  },
  {
   "cell_type": "code",
   "execution_count": 2,
   "outputs": [],
   "source": [
    "import numpy as np"
   ],
   "metadata": {
    "collapsed": false,
    "pycharm": {
     "name": "#%%\n"
    }
   }
  },
  {
   "cell_type": "code",
   "execution_count": 37,
   "outputs": [
    {
     "data": {
      "text/html": "        <script type=\"text/javascript\">\n        window.PlotlyConfig = {MathJaxConfig: 'local'};\n        if (window.MathJax && window.MathJax.Hub && window.MathJax.Hub.Config) {window.MathJax.Hub.Config({SVG: {font: \"STIX-Web\"}});}\n        if (typeof require !== 'undefined') {\n        require.undef(\"plotly\");\n        requirejs.config({\n            paths: {\n                'plotly': ['https://cdn.plot.ly/plotly-2.16.1.min']\n            }\n        });\n        require(['plotly'], function(Plotly) {\n            window._Plotly = Plotly;\n        });\n        }\n        </script>\n        "
     },
     "metadata": {},
     "output_type": "display_data"
    }
   ],
   "source": [
    "import cufflinks as cf\n",
    "cf.go_offline()\n",
    "cf.set_config_file(offline=False, world_readable=True)"
   ],
   "metadata": {
    "collapsed": false,
    "pycharm": {
     "name": "#%%\n"
    }
   }
  },
  {
   "cell_type": "code",
   "execution_count": 3,
   "outputs": [],
   "source": [
    "# model of ad behavior\n",
    "class BernoulliBandit(object):\n",
    "    def __init__(self, p):\n",
    "        self.p = p\n",
    "    # rewards come from Bernoulli dist. for the ad\n",
    "    def display_ad(self):\n",
    "        reward = np.random.binomial(n=1, p=self.p)\n",
    "        return reward"
   ],
   "metadata": {
    "collapsed": false,
    "pycharm": {
     "name": "#%%\n"
    }
   }
  },
  {
   "cell_type": "code",
   "execution_count": 4,
   "outputs": [],
   "source": [
    "adA = BernoulliBandit(0.004)\n",
    "adB = BernoulliBandit(0.016)\n",
    "adC = BernoulliBandit(0.025)\n",
    "adD = BernoulliBandit(0.035)\n",
    "adE = BernoulliBandit(0.028)\n",
    "ads = [adA, adB, adC, adD, adE]"
   ],
   "metadata": {
    "collapsed": false,
    "pycharm": {
     "name": "#%%\n"
    }
   }
  },
  {
   "cell_type": "code",
   "execution_count": 34,
   "outputs": [],
   "source": [
    "c = 10\n",
    "n_prod = 100000\n",
    "n_ads = len(ads)\n",
    "ad_indices = np.array(range(n_ads))\n",
    "Q = np.zeros(n_ads)\n",
    "N = np.zeros(n_ads)\n",
    "total_reward = 0\n",
    "avg_rewards = []"
   ],
   "metadata": {
    "collapsed": false,
    "pycharm": {
     "name": "#%%\n"
    }
   }
  },
  {
   "cell_type": "code",
   "execution_count": 29,
   "outputs": [],
   "source": [
    "import pandas as pd\n",
    "df_reward_comparison = pd.DataFrame()"
   ],
   "metadata": {
    "collapsed": false,
    "pycharm": {
     "name": "#%%\n"
    }
   }
  },
  {
   "cell_type": "code",
   "execution_count": 35,
   "outputs": [],
   "source": [
    "for t in range(1, n_prod + 1):\n",
    "    if any(N==0):\n",
    "        # If an action has not been selected yet, it has the highest UCB\n",
    "        ad_chosen = np.random.choice(ad_indices[N==0])\n",
    "    else:\n",
    "        uncertainty = np.sqrt(np.log(t) / N)\n",
    "        ad_chosen = np.argmax(Q + c * uncertainty)  # choose highest UCB\n",
    "    R = ads[ad_chosen].display_ad()\n",
    "    N[ad_chosen] += 1\n",
    "    # update action value\n",
    "    Q[ad_chosen] += (1 / N[ad_chosen]) * (R - Q[ad_chosen])\n",
    "    total_reward += R\n",
    "    avg_reward_so_far = total_reward / t\n",
    "    avg_rewards.append(avg_reward_so_far)\n",
    "\n",
    "\n",
    "df_reward_comparison['UCB, c={}'.format(c)] = avg_rewards"
   ],
   "metadata": {
    "collapsed": false,
    "pycharm": {
     "name": "#%%\n"
    }
   }
  },
  {
   "cell_type": "code",
   "execution_count": 40,
   "outputs": [
    {
     "name": "stdout",
     "output_type": "stream",
     "text": [
      "   UCB, c=0.1  UCB, c=1  UCB, c=10\n",
      "0         0.0       0.0        0.0\n",
      "1         0.0       0.0        0.0\n",
      "2         0.0       0.0        0.0\n",
      "3         0.0       0.0        0.0\n",
      "4         0.0       0.0        0.0\n"
     ]
    },
    {
     "data": {
      "text/plain": "<AxesSubplot:>"
     },
     "execution_count": 40,
     "metadata": {},
     "output_type": "execute_result"
    },
    {
     "data": {
      "text/plain": "<Figure size 432x288 with 1 Axes>",
      "image/png": "[encoded data removed]"
     },
     "metadata": {
      "needs_background": "light"
     },
     "output_type": "display_data"
    }
   ],
   "source": [
    "# Need to run UCB with the specified values or modify the ucb_list to what you have.\n",
    "ucb_list = ['UCB, c=0.1', 'UCB, c=1', 'UCB, c=10']\n",
    "print(df_reward_comparison.head())\n",
    "best_reward = df_reward_comparison.loc[t-1,ucb_list].max()\n",
    "df_reward_comparison[ucb_list].plot()"
   ],
   "metadata": {
    "collapsed": false,
    "pycharm": {
     "name": "#%%\n"
    }
   }
  },
  {
   "cell_type": "markdown",
   "source": [
    "### Tip\n",
    "Try hyperparameters in a logarithmic scale, such as [0.01, 0.1, 1, 10], rather\n",
    "than a linear scale, such as [0.08, 0.1, 0.12, 0.14]. The former allows exploring\n",
    "different orders of magnitude, where we could see significant jumps in\n",
    "performance. A search on a linear scale could be used after identifying the right\n",
    "order of magnitude."
   ],
   "metadata": {
    "collapsed": false,
    "pycharm": {
     "name": "#%% md\n"
    }
   }
  }
 ],
 "metadata": {
  "kernelspec": {
   "display_name": "Python 3",
   "language": "python",
   "name": "python3"
  },
  "language_info": {
   "codemirror_mode": {
    "name": "ipython",
    "version": 2
   },
   "file_extension": ".py",
   "mimetype": "text/x-python",
   "name": "python",
   "nbconvert_exporter": "python",
   "pygments_lexer": "ipython2",
   "version": "2.7.6"
  }
 },
 "nbformat": 4,
 "nbformat_minor": 0
}