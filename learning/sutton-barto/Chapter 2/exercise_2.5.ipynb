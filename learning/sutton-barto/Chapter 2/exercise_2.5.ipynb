{
 "cells": [
  {
   "cell_type": "markdown",
   "source": [
    "- Wykonać zadanie 2.5.\n",
    "- Zreprodukować Fig 2.3 (optimistic initial values technique)\n",
    "-\n",
    "-\n"
   ],
   "metadata": {
    "collapsed": false,
    "pycharm": {
     "name": "#%% md\n"
    }
   }
  }
 ],
 "metadata": {
  "kernelspec": {
   "display_name": "Python 3",
   "language": "python",
   "name": "python3"
  },
  "language_info": {
   "codemirror_mode": {
    "name": "ipython",
    "version": 2
   },
   "file_extension": ".py",
   "mimetype": "text/x-python",
   "name": "python",
   "nbconvert_exporter": "python",
   "pygments_lexer": "ipython2",
   "version": "2.7.6"
  }
 },
 "nbformat": 4,
 "nbformat_minor": 0
}